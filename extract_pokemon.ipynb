{
 "cells": [
  {
   "cell_type": "code",
   "execution_count": 1,
   "metadata": {},
   "outputs": [],
   "source": [
    "import pandas as pd\n",
    "from bs4 import BeautifulSoup\n",
    "import requests"
   ]
  },
  {
   "cell_type": "code",
   "execution_count": 2,
   "metadata": {},
   "outputs": [],
   "source": [
    "url = 'https://pokemondb.net/pokedex/all'\n",
    "soup = BeautifulSoup(requests.get(url).text, \"html.parser\")"
   ]
  },
  {
   "cell_type": "code",
   "execution_count": 3,
   "metadata": {},
   "outputs": [],
   "source": [
    "pokedex_soup = soup.find('table', {'id': 'pokedex'})"
   ]
  },
  {
   "cell_type": "code",
   "execution_count": 4,
   "metadata": {},
   "outputs": [
    {
     "name": "stdout",
     "output_type": "stream",
     "text": [
      "['#', 'Name', 'Type', 'Total', 'HP', 'Attack', 'Defense', 'Sp. Atk', 'Sp. Def', 'Speed']\n"
     ]
    }
   ],
   "source": [
    "column_names = []\n",
    "for element in pokedex_soup.find('thead').find_all('th'):\n",
    "    column_names.append(element.get_text())\n",
    "print(column_names)"
   ]
  },
  {
   "cell_type": "code",
   "execution_count": 5,
   "metadata": {},
   "outputs": [],
   "source": [
    "pokedex_dict = dict.fromkeys(column_names)\n",
    "for key in pokedex_dict.keys():\n",
    "    pokedex_dict[key] = []\n",
    "for pokemon in pokedex_soup.find('tbody').find_all('tr'):\n",
    "    for pokemon_type in pokemon.find_all('td')[2].find_all('a'):\n",
    "        pokedex_dict['Type'].append(pokemon_type.get_text())\n",
    "        pokedex_dict['#'].append(pokemon.find_all('td')[0].get_text())\n",
    "        pokedex_dict['Name'].append(pokemon.find_all('td')[1].get_text())\n",
    "        pokedex_dict['Total'].append(pokemon.find_all('td')[3].get_text())\n",
    "        pokedex_dict['HP'].append(pokemon.find_all('td')[4].get_text())\n",
    "        pokedex_dict['Attack'].append(pokemon.find_all('td')[5].get_text())\n",
    "        pokedex_dict['Defense'].append(pokemon.find_all('td')[6].get_text())\n",
    "        pokedex_dict['Sp. Atk'].append(pokemon.find_all('td')[7].get_text())\n",
    "        pokedex_dict['Sp. Def'].append(pokemon.find_all('td')[8].get_text())\n",
    "        pokedex_dict['Speed'].append(pokemon.find_all('td')[9].get_text())\n",
    "    \n",
    "pokedex_df = pd.DataFrame(pokedex_dict)"
   ]
  },
  {
   "cell_type": "code",
   "execution_count": 6,
   "metadata": {},
   "outputs": [],
   "source": [
    "pokedex_df.to_csv('all_pokemon.csv', index=False)"
   ]
  },
  {
   "cell_type": "markdown",
   "metadata": {},
   "source": [
    "# Let's Go Pokemon Only"
   ]
  },
  {
   "cell_type": "code",
   "execution_count": 7,
   "metadata": {},
   "outputs": [],
   "source": [
    "url = 'https://pokemondb.net/pokedex/game/lets-go-pikachu-eevee'\n",
    "soup = BeautifulSoup(requests.get(url).text, \"html.parser\")\n",
    "\n",
    "# letsgo_pokemon = []\n",
    "# for element in soup.find_all('div', {'class': 'infocard infocard-lgpe'}):\n",
    "#     letsgo_pokemon.append(element.find('a', {'class': 'ent-name'}).get_text())\n",
    "    \n",
    "# letsgo_pokedex_df = pokedex_df[pokedex_df['Name'].apply(lambda x: x in letsgo_pokemon)].copy()\n",
    "\n",
    "letsgo_pokemon = []\n",
    "for element in soup.find_all('div', {'class': 'infocard infocard-lgpe'}):\n",
    "    letsgo_pokemon.append(element.find('small').get_text().replace('#', ''))\n",
    "    \n",
    "letsgo_pokedex_df = pokedex_df[pokedex_df['#'].apply(lambda x: x in letsgo_pokemon)].copy()"
   ]
  },
  {
   "cell_type": "code",
   "execution_count": 8,
   "metadata": {},
   "outputs": [],
   "source": [
    "letsgo_pokedex_df.to_csv('letsgo_pokemon.csv', index=False)"
   ]
  }
 ],
 "metadata": {
  "kernelspec": {
   "display_name": "Python 3",
   "language": "python",
   "name": "python3"
  },
  "language_info": {
   "codemirror_mode": {
    "name": "ipython",
    "version": 3
   },
   "file_extension": ".py",
   "mimetype": "text/x-python",
   "name": "python",
   "nbconvert_exporter": "python",
   "pygments_lexer": "ipython3",
   "version": "3.6.5"
  }
 },
 "nbformat": 4,
 "nbformat_minor": 2
}
